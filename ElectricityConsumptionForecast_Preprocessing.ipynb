{
  "cells": [
    {
      "cell_type": "markdown",
      "metadata": {
        "id": "view-in-github",
        "colab_type": "text"
      },
      "source": [
        "<a href=\"https://colab.research.google.com/github/ilija-ra/ElectricityConsumptionForecast.BE/blob/main/ElectricityConsumptionForecast_Preprocessing.ipynb\" target=\"_parent\"><img src=\"https://colab.research.google.com/assets/colab-badge.svg\" alt=\"Open In Colab\"/></a>"
      ]
    },
    {
      "cell_type": "markdown",
      "metadata": {
        "id": "V67gGrvyP0WP"
      },
      "source": [
        "**Imports**"
      ]
    },
    {
      "cell_type": "code",
      "execution_count": 2,
      "metadata": {
        "id": "_53Sj6tACg9Q"
      },
      "outputs": [],
      "source": [
        "import os\n",
        "import glob\n",
        "import pandas as pd\n",
        "import numpy as np\n",
        "import matplotlib.pyplot as plt\n",
        "import seaborn as sb\n",
        "import statsmodels.api as sm\n",
        "from scipy.stats import norm\n",
        "from scipy.stats import kurtosis\n",
        "from scipy.stats import skew\n",
        "from sklearn.model_selection import train_test_split\n",
        "from sklearn.preprocessing import StandardScaler, PolynomialFeatures\n",
        "from sklearn.linear_model import LinearRegression, Ridge, Lasso\n",
        "from sklearn.metrics import mean_absolute_error, accuracy_score\n",
        "from sklearn import datasets\n",
        "from sklearn.neural_network import MLPRegressor\n",
        "from keras.models import Sequential\n",
        "from keras.layers import Dense\n",
        "from keras.optimizers import Adam\n",
        "# from deap import base, creator, tools, algorithms\n",
        "from random import randint\n",
        "import random"
      ]
    },
    {
      "cell_type": "code",
      "source": [
        "# !zipinfo NYSLoadData.zip"
      ],
      "metadata": {
        "id": "Xn5eFxiX3meg"
      },
      "execution_count": null,
      "outputs": []
    },
    {
      "cell_type": "code",
      "execution_count": null,
      "metadata": {
        "id": "mzm27LFMDx8c",
        "colab": {
          "base_uri": "https://localhost:8080/"
        },
        "outputId": "d0c61fb3-eb0b-44cb-fbe5-b3dde7df6929"
      },
      "outputs": [
        {
          "output_type": "stream",
          "name": "stdout",
          "text": [
            "Archive:  NYSLoadData.zip\n",
            "  End-of-central-directory signature not found.  Either this file is not\n",
            "  a zipfile, or it constitutes one disk of a multi-part archive.  In the\n",
            "  latter case the central directory and zipfile comment will be found on\n",
            "  the last disk(s) of this archive.\n",
            "unzip:  cannot find zipfile directory in one of NYSLoadData.zip or\n",
            "        NYSLoadData.zip.zip, and cannot find NYSLoadData.zip.ZIP, period.\n"
          ]
        }
      ],
      "source": [
        "# !unzip NYSLoadData.zip"
      ]
    },
    {
      "cell_type": "markdown",
      "metadata": {
        "id": "KJ3bBlrRQedU"
      },
      "source": [
        "**Loading files**"
      ]
    },
    {
      "cell_type": "code",
      "execution_count": null,
      "metadata": {
        "id": "VF3ShK4jRevw"
      },
      "outputs": [],
      "source": [
        "csv_weather_files = glob.glob('*.{}'.format('csv'))\n",
        "csv_load_files = glob.glob(os.path.join('NYSLoadData', '**', '*.csv'), recursive=True)"
      ]
    },
    {
      "cell_type": "code",
      "execution_count": null,
      "metadata": {
        "id": "7KW1Em7j3rtf"
      },
      "outputs": [],
      "source": [
        "nyYears = pd.concat([pd.read_csv(f) for f in csv_weather_files ], ignore_index=True)\n",
        "nyLoadYears = pd.concat([pd.read_csv(file) for file in csv_load_files], ignore_index=True)"
      ]
    },
    {
      "cell_type": "markdown",
      "metadata": {
        "id": "ZC8JLJi-QmaT"
      },
      "source": [
        "**Load type files preprocessing**"
      ]
    },
    {
      "cell_type": "code",
      "execution_count": null,
      "metadata": {
        "id": "oJF2QsjWPubg"
      },
      "outputs": [],
      "source": [
        "nyLoadYears.rename(columns = {'Time Stamp':'datetime'}, inplace = True)"
      ]
    },
    {
      "cell_type": "code",
      "execution_count": null,
      "metadata": {
        "id": "wY53MykqF8T_"
      },
      "outputs": [],
      "source": [
        "nyLoadYears = nyLoadYears[nyLoadYears['Name'] == 'N.Y.C.'];\n",
        "nyLoadYears['datetime'] = pd.to_datetime(nyLoadYears['datetime'])\n",
        "\n",
        "nyLoadYears = nyLoadYears[(nyLoadYears['datetime'].dt.minute == 0) & (nyLoadYears['datetime'].dt.second == 0)]"
      ]
    },
    {
      "cell_type": "code",
      "source": [
        "# nyYears = pd.read_csv('NYSWeatherDataMerged.csv')\n",
        "# nyLoadYears = pd.read_csv('NYSLoadDataMerged.csv')"
      ],
      "metadata": {
        "id": "Eg-1uiF-378e"
      },
      "execution_count": null,
      "outputs": []
    },
    {
      "cell_type": "code",
      "execution_count": null,
      "metadata": {
        "id": "uKnxnSM_Pil-"
      },
      "outputs": [],
      "source": [
        "nyLoadYears.drop('Name', axis = 1, inplace= True)\n",
        "nyLoadYears.drop('PTID', axis = 1, inplace= True)"
      ]
    },
    {
      "cell_type": "code",
      "execution_count": null,
      "metadata": {
        "id": "CEqx54eAQ37P"
      },
      "outputs": [],
      "source": [
        "nyLoadYears['Load'].interpolate(inplace = True)"
      ]
    },
    {
      "cell_type": "markdown",
      "metadata": {
        "id": "hxA_zsDyQzJD"
      },
      "source": [
        "**Weather type files preprocessing**"
      ]
    },
    {
      "cell_type": "code",
      "execution_count": null,
      "metadata": {
        "id": "IWHoMVb14EJw"
      },
      "outputs": [],
      "source": [
        "nyYears.info()"
      ]
    },
    {
      "cell_type": "code",
      "execution_count": null,
      "metadata": {
        "id": "3z9MdJT74EMT"
      },
      "outputs": [],
      "source": [
        "total = nyYears.isnull().sum().sort_values(ascending=False)\n",
        "percent = (nyYears.isnull().sum()/len(nyYears)).sort_values(ascending=False)\n",
        "NaNs_percentage = pd.concat([total, percent*100], axis=1, keys=['Total', 'Percentage'])\n",
        "NaNs_percentage"
      ]
    },
    {
      "cell_type": "code",
      "execution_count": null,
      "metadata": {
        "id": "BTQ3cAbieBbc"
      },
      "outputs": [],
      "source": [
        "precip = (nyYears['precip'] == 0).sum()/len(nyYears)\n",
        "snow = (nyYears['snow'] == 0).sum()/len(nyYears)\n",
        "snowdepth = (nyYears['snowdepth'] == 0).sum()/len(nyYears)\n",
        "print(precip)\n",
        "print(snow)\n",
        "print(snowdepth)"
      ]
    },
    {
      "cell_type": "code",
      "execution_count": null,
      "metadata": {
        "id": "p6GMrv2L4EO9"
      },
      "outputs": [],
      "source": [
        "nyYears.drop('name', axis = 1, inplace= True)\n",
        "nyYears.drop('preciptype', axis = 1, inplace= True)\n",
        "nyYears.drop('severerisk', axis = 1, inplace= True)\n",
        "nyYears.drop('precipprob', axis = 1, inplace= True)\n",
        "nyYears.drop('windgust', axis = 1, inplace= True)\n",
        "nyYears.drop('solarenergy', axis = 1, inplace= True)\n",
        "nyYears.drop('solarradiation', axis = 1, inplace= True)\n",
        "nyYears.drop('precip', axis = 1, inplace= True)\n",
        "nyYears.drop('snow', axis = 1, inplace= True)\n",
        "nyYears.drop('snowdepth', axis = 1, inplace= True)\n",
        "nyYears"
      ]
    },
    {
      "cell_type": "code",
      "execution_count": null,
      "metadata": {
        "id": "PHINGGQUBpCa"
      },
      "outputs": [],
      "source": [
        "nyYears['datetime'] = pd.to_datetime(nyYears['datetime'])"
      ]
    },
    {
      "cell_type": "code",
      "execution_count": null,
      "metadata": {
        "id": "4zg133ve4ERq"
      },
      "outputs": [],
      "source": [
        "nyYears.describe().round()"
      ]
    },
    {
      "cell_type": "code",
      "execution_count": null,
      "metadata": {
        "id": "XoXl2-RsIeHI"
      },
      "outputs": [],
      "source": [
        "print(nyYears['temp'].unique())"
      ]
    },
    {
      "cell_type": "code",
      "execution_count": null,
      "metadata": {
        "id": "S9IoHAW7IeOd"
      },
      "outputs": [],
      "source": [
        "nyYears.loc[nyYears['temp'] > 134, 'temp'] = np.nan"
      ]
    },
    {
      "cell_type": "code",
      "execution_count": null,
      "metadata": {
        "id": "mK5oJrv4LFtW"
      },
      "outputs": [],
      "source": [
        "nyYears['temp'].interpolate(inplace = True)\n",
        "nyYears['feelslike'].interpolate(inplace = True)\n",
        "nyYears['dew'].interpolate(inplace = True)\n",
        "nyYears['humidity'].fillna(method = 'bfill', inplace = True)\n",
        "nyYears['windspeed'].interpolate(inplace = True)\n",
        "nyYears['winddir'].interpolate(inplace = True)\n",
        "nyYears['sealevelpressure'].interpolate(inplace = True)\n",
        "nyYears['cloudcover'].interpolate(inplace = True)\n",
        "nyYears['visibility'].interpolate(inplace = True)"
      ]
    },
    {
      "cell_type": "code",
      "execution_count": null,
      "metadata": {
        "id": "nfvka_GZei6i"
      },
      "outputs": [],
      "source": [
        "nyYears.describe().round()"
      ]
    },
    {
      "cell_type": "code",
      "execution_count": null,
      "metadata": {
        "id": "l57ZbrjHuHT2"
      },
      "outputs": [],
      "source": [
        "# Clear = 0\n",
        "nyYears.loc[nyYears['conditions'] == \"Clear\", 'conditions'] = 0\n",
        "# Partially cloudy = 1\n",
        "nyYears.loc[nyYears['conditions'] == \"Partially cloudy\", 'conditions'] = 1\n",
        "# Overcast = 2\n",
        "nyYears.loc[nyYears['conditions'] == \"Overcast\", 'conditions'] = 2\n",
        "# Rain = 3\n",
        "nyYears.loc[nyYears['conditions'] == \"Rain\", 'conditions'] = 3\n",
        "# Snow = 4\n",
        "nyYears.loc[nyYears['conditions'] == \"Snow\", 'conditions'] = 4\n",
        "# Rain, Overcast = 5\n",
        "nyYears.loc[nyYears['conditions'] == \"Rain, Overcast\", 'conditions'] = 5\n",
        "# Rain, Partially cloudy = 6\n",
        "nyYears.loc[nyYears['conditions'] == \"Rain, Partially cloudy\", 'conditions'] = 6\n",
        "# Snow, Partially cloudy = 7\n",
        "nyYears.loc[nyYears['conditions'] == \"Snow, Partially cloudy\", 'conditions'] = 7\n",
        "# Snow, Overcast = 8\n",
        "nyYears.loc[nyYears['conditions'] == \"Snow, Overcast\", 'conditions'] = 8"
      ]
    },
    {
      "cell_type": "code",
      "execution_count": null,
      "metadata": {
        "id": "KItCz-4mSeHT"
      },
      "outputs": [],
      "source": [
        "nyYears['conditions'].fillna(method = 'ffill', inplace = True)"
      ]
    },
    {
      "cell_type": "code",
      "execution_count": null,
      "metadata": {
        "id": "qNeVtznUtpN1"
      },
      "outputs": [],
      "source": [
        "total = nyYears.isnull().sum().sort_values(ascending=False)\n",
        "percent = (nyYears.isnull().sum()/len(nyYears)).sort_values(ascending=False)\n",
        "NaNs_percentage = pd.concat([total, percent*100], axis=1, keys=['Total', 'Percentage'])\n",
        "NaNs_percentage"
      ]
    },
    {
      "cell_type": "markdown",
      "metadata": {
        "id": "bADGHAX8TlE-"
      },
      "source": [
        "**MERGED BOTH TYPES INTO ONE DATASET - preprocessing**"
      ]
    },
    {
      "cell_type": "code",
      "execution_count": null,
      "metadata": {
        "id": "DPitUL_QLZR9"
      },
      "outputs": [],
      "source": [
        "nyYears_merged = nyYears.merge(nyLoadYears, on = 'datetime', how = 'right')"
      ]
    },
    {
      "cell_type": "code",
      "execution_count": null,
      "metadata": {
        "id": "5dwVcwyYhT70"
      },
      "outputs": [],
      "source": [
        "# nyYears_merged['datetime'] = nyYears_merged['datetime'].dt.strftime('%Y-%m-%d %H:%M:%S')\n",
        "# 2020-03-29 01:00:00\n",
        "nyYears_merged['year'] = nyYears_merged['datetime'].dt.year\n",
        "nyYears_merged['month'] = nyYears_merged['datetime'].dt.month\n",
        "nyYears_merged['day'] = nyYears_merged['datetime'].dt.day\n",
        "nyYears_merged['hour'] = nyYears_merged['datetime'].dt.hour\n",
        "nyYears_merged['day_of_week'] = nyYears_merged['datetime'].dt.dayofweek + 1"
      ]
    },
    {
      "cell_type": "code",
      "source": [
        "# # Create a new column for the mean temperature of the same day and month in previous years\n",
        "# nyYears_merged['mean_temp_same_day_prev_years'] = nyYears_merged.apply(\n",
        "#     lambda row: nyYears_merged[(nyYears_merged['day'] == row['day']) & (nyYears_merged['month'] == row['month']) & (nyYears_merged['datetime'].dt.year < row['datetime'].year)]['temp'].mean(),\n",
        "#     axis=1\n",
        "# )"
      ],
      "metadata": {
        "id": "M6dUaWY56AOV"
      },
      "execution_count": null,
      "outputs": []
    },
    {
      "cell_type": "code",
      "execution_count": null,
      "metadata": {
        "id": "vkCXJ0wiU05I"
      },
      "outputs": [],
      "source": [
        "# # Calculate the average consumption for each day\n",
        "# daily_avg_load = nyYears_merged.groupby(nyYears_merged['datetime'].dt.date)['Load'].mean()\n",
        "# # Merge the daily average consumption back to the original DataFrame\n",
        "# nyYears_merged = nyYears_merged.merge(daily_avg_load, left_on=nyYears_merged['datetime'].dt.date, right_index=True, suffixes=('', '_avg_prev_day'))\n",
        "# nyYears_merged.drop('key_0', axis = 1, inplace= True)\n",
        "\n",
        "# Calculate the average temperature for each day\n",
        "daily_avg_temp = nyYears_merged.groupby(nyYears_merged['datetime'].dt.date)['temp'].mean()\n",
        "# Merge the daily average temperature back to the original DataFrame\n",
        "nyYears_merged = nyYears_merged.merge(daily_avg_temp, left_on=nyYears_merged['datetime'].dt.date, right_index=True, suffixes=('', '_avg_prev_day'))\n",
        "nyYears_merged.drop('key_0', axis = 1, inplace= True)"
      ]
    },
    {
      "cell_type": "code",
      "source": [
        "nyYears_merged.shape"
      ],
      "metadata": {
        "id": "pZwmtMCYZtvi"
      },
      "execution_count": null,
      "outputs": []
    },
    {
      "cell_type": "code",
      "execution_count": null,
      "metadata": {
        "id": "oO3jmSREJZtH"
      },
      "outputs": [],
      "source": [
        "# EDT = 1\n",
        "nyYears_merged.loc[nyYears_merged['Time Zone'] == \"EDT\", 'Time Zone'] = 1\n",
        "# EST = 2\n",
        "nyYears_merged.loc[nyYears_merged['Time Zone'] == \"EST\", 'Time Zone'] = 2"
      ]
    },
    {
      "cell_type": "code",
      "execution_count": null,
      "metadata": {
        "id": "hgd19Qj7KTqw"
      },
      "outputs": [],
      "source": [
        "nyYears_merged.column = nyYears_merged[['datetime', 'year', 'month', 'day', 'hour', 'day_of_week', 'temp', 'feelslike', 'dew', 'humidity', 'windspeed', 'winddir', 'sealevelpressure', 'cloudcover', 'visibility', 'uvindex', 'conditions', 'Time Zone', 'Load_avg_prev_day', 'temp_avg_prev_day', 'Load']]"
      ]
    },
    {
      "cell_type": "code",
      "source": [
        "nyYears_merged = nyYears_merged.round(2)"
      ],
      "metadata": {
        "id": "KSl_xX9s6C_0"
      },
      "execution_count": null,
      "outputs": []
    },
    {
      "cell_type": "code",
      "source": [
        "nyYears_merged.info()"
      ],
      "metadata": {
        "id": "Z7c8j0N5ve9s"
      },
      "execution_count": null,
      "outputs": []
    },
    {
      "cell_type": "code",
      "source": [
        "nyYears_merged"
      ],
      "metadata": {
        "id": "LKTyBMb5FrRl"
      },
      "execution_count": null,
      "outputs": []
    },
    {
      "cell_type": "code",
      "execution_count": null,
      "metadata": {
        "id": "SK8A9Y9Yh0jg"
      },
      "outputs": [],
      "source": [
        "nyYears_merged.to_csv('NYSProcessedData.csv', index=False)"
      ]
    }
  ],
  "metadata": {
    "colab": {
      "provenance": [],
      "authorship_tag": "ABX9TyO1ivF5zXUyUm0z5l0DjEkc",
      "include_colab_link": true
    },
    "kernelspec": {
      "display_name": "Python 3",
      "name": "python3"
    },
    "language_info": {
      "name": "python"
    }
  },
  "nbformat": 4,
  "nbformat_minor": 0
}